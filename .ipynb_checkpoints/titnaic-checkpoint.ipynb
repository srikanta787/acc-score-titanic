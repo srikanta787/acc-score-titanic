{
 "cells": [
  {
   "cell_type": "code",
   "execution_count": 5,
   "id": "ea976244-a5c1-4001-9f89-5a539d965dd4",
   "metadata": {},
   "outputs": [
    {
     "name": "stdout",
     "output_type": "stream",
     "text": [
      "PassengerId 0\n",
      "Survived 0\n",
      "Pclass 0\n",
      "Name 0\n",
      "Sex 0\n",
      "Age 177\n",
      "SibSp 0\n",
      "Parch 0\n",
      "Ticket 0\n",
      "Fare 0\n",
      "Cabin 687\n",
      "Embarked 2\n"
     ]
    },
    {
     "name": "stderr",
     "output_type": "stream",
     "text": [
      "C:\\Users\\srika\\AppData\\Local\\Temp\\ipykernel_14348\\2350273297.py:28: FutureWarning: A value is trying to be set on a copy of a DataFrame or Series through chained assignment using an inplace method.\n",
      "The behavior will change in pandas 3.0. This inplace method will never work because the intermediate object on which we are setting values always behaves as a copy.\n",
      "\n",
      "For example, when doing 'df[col].method(value, inplace=True)', try using 'df.method({col: value}, inplace=True)' or df[col] = df[col].method(value) instead, to perform the operation inplace on the original object.\n",
      "\n",
      "\n",
      "  df['Age'].fillna(df['Age'].median(), inplace=True)\n",
      "C:\\Users\\srika\\AppData\\Local\\Temp\\ipykernel_14348\\2350273297.py:29: FutureWarning: A value is trying to be set on a copy of a DataFrame or Series through chained assignment using an inplace method.\n",
      "The behavior will change in pandas 3.0. This inplace method will never work because the intermediate object on which we are setting values always behaves as a copy.\n",
      "\n",
      "For example, when doing 'df[col].method(value, inplace=True)', try using 'df.method({col: value}, inplace=True)' or df[col] = df[col].method(value) instead, to perform the operation inplace on the original object.\n",
      "\n",
      "\n",
      "  df['Embarked'].fillna('S', inplace = True)\n",
      "C:\\Users\\srika\\AppData\\Local\\Temp\\ipykernel_14348\\2350273297.py:30: FutureWarning: Downcasting behavior in `replace` is deprecated and will be removed in a future version. To retain the old behavior, explicitly call `result.infer_objects(copy=False)`. To opt-in to the future behavior, set `pd.set_option('future.no_silent_downcasting', True)`\n",
      "  df.Embarked.replace(['S','C','Q'],[0,1,2], inplace=True)\n",
      "C:\\Users\\srika\\AppData\\Local\\Temp\\ipykernel_14348\\2350273297.py:40: FutureWarning: A value is trying to be set on a copy of a DataFrame or Series through chained assignment using an inplace method.\n",
      "The behavior will change in pandas 3.0. This inplace method will never work because the intermediate object on which we are setting values always behaves as a copy.\n",
      "\n",
      "For example, when doing 'df[col].method(value, inplace=True)', try using 'df.method({col: value}, inplace=True)' or df[col] = df[col].method(value) instead, to perform the operation inplace on the original object.\n",
      "\n",
      "\n",
      "  df.Sex.replace(['male','female'],[0,1], inplace = True)\n",
      "C:\\Users\\srika\\AppData\\Local\\Temp\\ipykernel_14348\\2350273297.py:40: FutureWarning: Downcasting behavior in `replace` is deprecated and will be removed in a future version. To retain the old behavior, explicitly call `result.infer_objects(copy=False)`. To opt-in to the future behavior, set `pd.set_option('future.no_silent_downcasting', True)`\n",
      "  df.Sex.replace(['male','female'],[0,1], inplace = True)\n",
      "C:\\Users\\srika\\AppData\\Local\\Temp\\ipykernel_14348\\2350273297.py:42: FutureWarning: A value is trying to be set on a copy of a DataFrame or Series through chained assignment using an inplace method.\n",
      "The behavior will change in pandas 3.0. This inplace method will never work because the intermediate object on which we are setting values always behaves as a copy.\n",
      "\n",
      "For example, when doing 'df[col].method(value, inplace=True)', try using 'df.method({col: value}, inplace=True)' or df[col] = df[col].method(value) instead, to perform the operation inplace on the original object.\n",
      "\n",
      "\n",
      "  df.Embarked.replace(['S','C','Q'],[0,1,2], inplace=True)\n",
      "C:\\Users\\srika\\AppData\\Local\\Temp\\ipykernel_14348\\2350273297.py:45: FutureWarning: A value is trying to be set on a copy of a DataFrame or Series through chained assignment using an inplace method.\n",
      "The behavior will change in pandas 3.0. This inplace method will never work because the intermediate object on which we are setting values always behaves as a copy.\n",
      "\n",
      "For example, when doing 'df[col].method(value, inplace=True)', try using 'df.method({col: value}, inplace=True)' or df[col] = df[col].method(value) instead, to perform the operation inplace on the original object.\n",
      "\n",
      "\n",
      "  df.Title.replace(['Mr','Miss','Mrs','Master','Dr','Rev','Royalty','Officer'],[0,1,2,3,4,5,6,7],inplace=True)\n",
      "C:\\Users\\srika\\AppData\\Local\\Temp\\ipykernel_14348\\2350273297.py:45: FutureWarning: Downcasting behavior in `replace` is deprecated and will be removed in a future version. To retain the old behavior, explicitly call `result.infer_objects(copy=False)`. To opt-in to the future behavior, set `pd.set_option('future.no_silent_downcasting', True)`\n",
      "  df.Title.replace(['Mr','Miss','Mrs','Master','Dr','Rev','Royalty','Officer'],[0,1,2,3,4,5,6,7],inplace=True)\n"
     ]
    },
    {
     "name": "stdout",
     "output_type": "stream",
     "text": [
      "the accuracy of model 82.68156424581005\n"
     ]
    },
    {
     "data": {
      "image/png": "[encoded data removed]",
      "text/plain": [
       "<Figure size 600x300 with 2 Axes>"
      ]
     },
     "metadata": {},
     "output_type": "display_data"
    }
   ],
   "source": [
    "import pandas as pd\n",
    "import numpy as np\n",
    "import seaborn as sns\n",
    "import matplotlib.pyplot as plt\n",
    "df = pd.read_csv('train.csv') \n",
    "for columan in df:\n",
    "    print(columan,df[columan].isnull().sum() )\n",
    "\n",
    "def generate_title(name):\n",
    "  if '.' in name:\n",
    "    return name.split(',')[1].split('.')[0].strip()\n",
    "title = set([x for x in df['Name'].map(lambda x: generate_title(x))])\n",
    "\n",
    "def short_title(x):\n",
    "  title = x['Title']\n",
    "  if title in ['Capt', 'Col', 'Major']:\n",
    "    return 'Officer'\n",
    "  elif title in ['Jonkheer', 'Don', 'the Countess', 'Dona', 'Lady', 'Sir']:\n",
    "    return 'Royalty'\n",
    "  elif title == 'Mme':\n",
    "    return 'Mrs'\n",
    "  elif title in ['Mlle', 'Ms']:\n",
    "    return 'Miss'\n",
    "  else:\n",
    "    return title\n",
    "\n",
    "\n",
    "df['Age'].fillna(df['Age'].median(), inplace=True)\n",
    "df['Embarked'].fillna('S', inplace = True) \n",
    "df.Embarked.replace(['S','C','Q'],[0,1,2], inplace=True)\n",
    "df.drop('Cabin', axis = 1, inplace=True)\n",
    "df['Title']= df['Name'].map(lambda x: generate_title(x))\n",
    "df['Title'] = df.apply(short_title, axis = 1)\n",
    "df.drop('Name', axis = 1, inplace = True)\n",
    "df.head()\n",
    "  \n",
    "graph = sns.FacetGrid(df, col = 'Survived')\n",
    "graph.map(plt.hist,'Age',bins=20)\n",
    "df.loc[df['Age'] > 60, 'Age'] = df['Age'].median()\n",
    "df.Sex.replace(['male','female'],[0,1], inplace = True)\n",
    "df['Embarked'].value_counts()\n",
    "df.Embarked.replace(['S','C','Q'],[0,1,2], inplace=True)\n",
    "df['Title'].value_counts()\n",
    "df.drop('Ticket', axis = 1, inplace = True)\n",
    "df.Title.replace(['Mr','Miss','Mrs','Master','Dr','Rev','Royalty','Officer'],[0,1,2,3,4,5,6,7],inplace=True)\n",
    "y = df['Survived']\n",
    "x = df.drop(['PassengerId','Survived'],axis=1)\n",
    "from sklearn.model_selection import train_test_split\n",
    "x_train,x_test,y_train,y_test=train_test_split(x,y, test_size=0.2,random_state=42)\n",
    "import pickle\n",
    "from sklearn.ensemble import RandomForestClassifier\n",
    "from sklearn.metrics import accuracy_score\n",
    "\n",
    "rf = RandomForestClassifier()\n",
    "rf.fit(x_train, y_train)\n",
    "y_pred = rf.predict(x_test)\n",
    "acc_score = accuracy_score(y_test,y_pred)*100\n",
    "print('the accuracy of model {}'.format(acc_score))\n",
    "filename = 'titanic_model1.sav'\n",
    "pickle.dump(rf, open(filename, 'wb'))\n",
    "\n"
   ]
  },
  {
   "cell_type": "code",
   "execution_count": 9,
   "id": "4832f185-9cba-49a7-8470-4426b865e7c6",
   "metadata": {},
   "outputs": [],
   "source": [
    "def prediction_model(pclass,sex,age, sibsp,parch,fare,embarked,title):\n",
    "    import pickle\n",
    "    x = [[pclass,sex,age, sibsp,parch,fare,embarked,title]]\n",
    "    randomforest = pickle.load(open('titanic_model1.sav','rb'))\n",
    "    predictions = randomforest.predict(x)\n",
    "    print(predictions)"
   ]
  },
  {
   "cell_type": "code",
   "execution_count": 12,
   "id": "1b131b16-9510-49f7-8076-dc0afa22bd87",
   "metadata": {},
   "outputs": [
    {
     "name": "stdout",
     "output_type": "stream",
     "text": [
      "[0]\n"
     ]
    },
    {
     "name": "stderr",
     "output_type": "stream",
     "text": [
      "C:\\Users\\srika\\AppData\\Local\\Programs\\Python\\Python313\\Lib\\site-packages\\sklearn\\base.py:493: UserWarning: X does not have valid feature names, but RandomForestClassifier was fitted with feature names\n",
      "  warnings.warn(\n"
     ]
    }
   ],
   "source": [
    "prediction_model(0,0,30,1,1,19,1,1)"
   ]
  },
  {
   "cell_type": "code",
   "execution_count": null,
   "id": "7f58a4d5-3e61-4532-8f74-ab8a4a310773",
   "metadata": {},
   "outputs": [],
   "source": []
  }
 ],
 "metadata": {
  "kernelspec": {
   "display_name": "Python 3 (ipykernel)",
   "language": "python",
   "name": "python3"
  },
  "language_info": {
   "codemirror_mode": {
    "name": "ipython",
    "version": 3
   },
   "file_extension": ".py",
   "mimetype": "text/x-python",
   "name": "python",
   "nbconvert_exporter": "python",
   "pygments_lexer": "ipython3",
   "version": "3.13.0"
  }
 },
 "nbformat": 4,
 "nbformat_minor": 5
}
